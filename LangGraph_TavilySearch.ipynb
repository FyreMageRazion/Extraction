{
 "cells": [
  {
   "cell_type": "markdown",
   "id": "9bd298ac-8750-449c-b097-4055e8640939",
   "metadata": {},
   "source": [
    "## LangGraph with Tavily"
   ]
  },
  {
   "cell_type": "code",
   "execution_count": 1,
   "id": "b6951803-2449-4534-a3f9-e3ce9a1f4123",
   "metadata": {},
   "outputs": [],
   "source": [
    "import os\n",
    "import json\n",
    "\n",
    "from pydantic import BaseModel, Field, HttpUrl\n",
    "from typing import TypedDict, Annotated, List, Literal, Optional, Any, Dict, Annotated\n",
    "import operator\n",
    "from operator import itemgetter\n",
    "from dataclasses import dataclass, field\n",
    "\n",
    "from langchain_google_genai import ChatGoogleGenerativeAI\n",
    "import google.generativeai as genai\n",
    "from google.genai import types\n",
    "\n",
    "from tavily import TavilyClient\n",
    "\n",
    "from langgraph.graph import StateGraph, MessagesState,START, END\n",
    "\n",
    "\n",
    "from IPython.display import Image"
   ]
  },
  {
   "cell_type": "markdown",
   "id": "a39d2a8d-4125-40c9-ab30-d2d11d9f6144",
   "metadata": {},
   "source": [
    "## Configuring API KEYS"
   ]
  },
  {
   "cell_type": "code",
   "execution_count": 2,
   "id": "521a3fb2-0783-44b4-aa98-3076b41016a0",
   "metadata": {},
   "outputs": [],
   "source": [
    "google_api_key = \"<API_KEY>\"\n",
    "tavily_api_key = \"<API_KEY>\"\n",
    "    \n",
    "os.environ[\"GEMINI_API_KEY\"] = google_api_key\n",
    "os.environ[\"TAVILY_API_KEY\"] = tavily_api_key\n",
    "genai.configure(api_key=google_api_key)\n",
    "tavily_client = TavilyClient(api_key=os.environ.get(\"TAVILY_API_KEY\"))"
   ]
  },
  {
   "cell_type": "markdown",
   "id": "31d4c781-2433-4044-bdec-743b07d423c5",
   "metadata": {},
   "source": [
    "## Prompts"
   ]
  },
  {
   "cell_type": "code",
   "execution_count": 3,
   "id": "4b2a9d85-fa5c-428e-86d9-c28d081a4687",
   "metadata": {},
   "outputs": [],
   "source": [
    "search_questions_system_prompt = \"\"\"ROLE:\n",
    "You are an analytical assistant specialized in expanding vague user queries into multiple web-searchable, insight-rich questions.\n",
    "\n",
    "STRICT INSTRUCTION: STRICTLY RESPOND ONLY WITH THE FINAL LIST OF QUESTIONS IN THE GIVEN FORMAT\n",
    "MAIN OBJECTIVE:\n",
    "Transform the given user query into a structured list of 5 distinct and meaningful questions that explore the topic from diverse analytical perspectives.\n",
    "\n",
    "<INPUT_USER_QUERY>\n",
    "{user_query}\n",
    "<INPUT_USER_QUERY_END>\n",
    "\n",
    "CONTEXT:\n",
    "The analysis focuses on competitive clothing retail markets and supports the following stakeholders:\n",
    "1. Business Owners & Managers – Interested in competitors, customer behavior, and peak hours.\n",
    "2. Marketing & Strategy Teams – Focused on promotions, footfall trends, and campaign performance.\n",
    "3. Real Estate & Location Analysts – Concerned with store placement, local traffic flow, and expansion opportunities.\n",
    "4. Investors & Market Analysts – Evaluating profitability, market saturation, and risk outlook.\n",
    "\n",
    "GUIDELINES:\n",
    "- Generate **exactly 5** self-contained, web-search-ready questions.\n",
    "- Each question should explore the topic from a unique angle such as:\n",
    "  - Competitive intelligence  \n",
    "  - Consumer behavior and timing  \n",
    "  - Local market dynamics  \n",
    "  - Location and footfall analysis  \n",
    "  - Investment outlook or trend prediction  \n",
    "- Avoid vague or repetitive phrasing.\n",
    "- Ensure each question can be independently used for online search.\n",
    "\n",
    "EXPECTED OUTPUT FORMAT (strictly adhere to this schema):\n",
    "\n",
    "{{\n",
    "  \"listOfQuestions\": [\n",
    "    {{\"question\": \"<Question 1>\"}},\n",
    "    {{\"question\": \"<Question 2>\"}},\n",
    "    {{\"question\": \"<Question 3>\"}},\n",
    "    {{\"question\": \"<Question 4>\"}},\n",
    "    {{\"question\": \"<Question 5>\"}}\n",
    "  ]\n",
    "}}\n",
    "\n",
    "Ensure the output is a **valid JSON object** compatible with the following Pydantic schema:\n",
    "\n",
    "class question(BaseModel):\n",
    "    question: str = Field(..., description=\"Individual questions from the output\")\n",
    "\n",
    "class listOfQuestions(BaseModel):\n",
    "    listOfQuestions: list[question] = Field(..., description=\"List of various questions\")\n",
    "\n",
    "EXAMPLE INPUT:\n",
    "USER QUERY: \"How do clothing stores in Koramangala perform?\"\n",
    "\n",
    "EXAMPLE OUTPUT:\n",
    "{{\n",
    "  \"listOfQuestions\": [\n",
    "    {{\"question\": \"What are the top-performing clothing stores in Koramangala, and what factors contribute to their success?\"}},\n",
    "    {{\"question\": \"How do footfall trends vary by time of day or week for fashion retailers in Koramangala?\"}},\n",
    "    {{\"question\": \"Which marketing strategies are most effective for clothing stores in competitive areas like Koramangala?\"}},\n",
    "    {{\"question\": \"How does store location within Koramangala affect sales and customer engagement for apparel businesses?\"}},\n",
    "    {{\"question\": \"What is the investment outlook for retail apparel businesses in Bangalore’s Koramangala district?\"}}\n",
    "  ]\n",
    "}}\n",
    "\"\"\"\n",
    "\n",
    "summary_system_prompt = \"\"\"\n",
    "You are an intelligent assistant tasked with answering user queries based on relevant web search results.\n",
    "\n",
    "<User Query>\n",
    "{user_query}\n",
    "</User Query>\n",
    "\n",
    "Use the following web search results to provide an accurate, complete, and contextually relevant response. Integrate information across sources, summarize key points, and ensure clarity in your explanation.\n",
    "\n",
    "<Context>\n",
    "<CONTEXT>\n",
    "</Context>\n",
    "\n",
    "Guidelines:\n",
    "- Your presentation should be in a executive report format\n",
    "- Leverage information from context if any\n",
    "- Highlight key insights, trends, or actionable points if applicable.\n",
    "- Present your answer in a clear, structured, and concise manner.\n",
    "\n",
    "Intended Beneficiaries\n",
    "This solution will benefit the following groups:\n",
    "1. Business Owners and Managers\n",
    "Clothing store owners or managers in areas with high competition can use this report to\n",
    "identify key competitors, analyze peak customer hours, and adjust their own strategies to\n",
    "improve market position.\n",
    "2. Marketing and Strategy Teams\n",
    "Marketing teams responsible for local engagement can leverage insights on footfall trends to\n",
    "optimize promotions during high-traffic periods. Additionally, competitive data can help\n",
    "strategists shape targeted campaigns, aligning with or counteracting competitor timings.\n",
    "3. Real Estate and Location Analysts\n",
    "Location-based data on competitor footfall and busy hours can also assist analysts in\n",
    "recommending ideal store locations for future openings, as well as identifying high-value\n",
    "times for new store launches.\n",
    "4. Investors and Market Analysts\n",
    "Investors considering opportunities in retail can use competitor analysis to assess market\n",
    "saturation, business potential, and potential risks in high-traffic areas like Koramangala,\n",
    "Bangalore.\n",
    "\"\"\"\n",
    "\n",
    "class question(BaseModel):\n",
    "    question: str = Field(..., description=\"Individual questions from the output\")\n",
    "\n",
    "class listOfQuestions(BaseModel):\n",
    "    listOfQuestions: list[question] = Field(..., description=\"List of various questions\")"
   ]
  },
  {
   "cell_type": "markdown",
   "id": "6b0a72d6-40fa-41b8-b086-adea16c01027",
   "metadata": {},
   "source": [
    "## Declaring LangGraph State"
   ]
  },
  {
   "cell_type": "code",
   "execution_count": 4,
   "id": "1d73bdb4-6e31-41e7-a7bc-2fafbce9dd4f",
   "metadata": {},
   "outputs": [],
   "source": [
    "class MarketAnalysisState(BaseModel):\n",
    "    user_question: Annotated[str, operator.add] = None\n",
    "    search_query:Annotated[str, operator.add] = None\n",
    "    list_of_search_questions: Annotated[list, operator.add]  = []\n",
    "    list_of_search_responses: Annotated[list, operator.add]  = []\n",
    "    log_messages: Annotated[list, operator.add]  = []\n",
    "    final_summary: Annotated[str, operator.add] = None"
   ]
  },
  {
   "cell_type": "markdown",
   "id": "5410a0ed-38bf-480d-a0c5-7dff85558ecb",
   "metadata": {},
   "source": [
    "## Initial refinement of the user query into broader questions to be searched online"
   ]
  },
  {
   "cell_type": "code",
   "execution_count": 5,
   "id": "435ee4eb-ea93-4055-963f-404dafed0d3f",
   "metadata": {},
   "outputs": [],
   "source": [
    "# get search questions\n",
    "def get_search_questions(state: MarketAnalysisState):\n",
    "    dynamic_data = {\"user_query\":state.user_question}\n",
    "    search_questions_system_prompt.format(**dynamic_data)\n",
    "\n",
    "    model = genai.GenerativeModel(\"gemini-2.0-flash\")\n",
    "    response = model.generate_content(\n",
    "        summary_system_prompt\n",
    "    )\n",
    "    \n",
    "    text = response.candidates[0].content.parts[0].text\n",
    "    \n",
    "    response2 = model.generate_content(\n",
    "        \"Extract the list of 5 questions in a form of a json list from the following text \\n\\n\" + text,\n",
    "    generation_config=genai.GenerationConfig(\n",
    "            response_mime_type=\"application/json\",\n",
    "            response_schema=listOfQuestions,\n",
    "        )\n",
    "    )\n",
    "    \n",
    "    text2 = response2.candidates[0].content.parts[0].text\n",
    "    data = json.loads(text2)\n",
    "    questions = [q[\"question\"] for q in data[\"listOfQuestions\"]]\n",
    "    state.list_of_search_questions = questions\n",
    "    return state\n",
    "    "
   ]
  },
  {
   "cell_type": "markdown",
   "id": "5f8f1b6d-b0cd-4cdb-9007-7fcd9d1424f4",
   "metadata": {},
   "source": [
    "## Tavily Search Tool & Final Executive summary"
   ]
  },
  {
   "cell_type": "code",
   "execution_count": 6,
   "id": "6fed42d8-db3f-4802-a76f-86fae3b06d6f",
   "metadata": {},
   "outputs": [],
   "source": [
    "# online search needed?\n",
    "def should_continue(state: MarketAnalysisState) -> bool:\n",
    "    if len(state.list_of_search_questions)>0:\n",
    "        return 'search_tool'\n",
    "    else:\n",
    "        return 'summary'\n",
    "        \n",
    "    \n",
    "def search_tool(state: MarketAnalysisState):\n",
    "    all_results = []\n",
    "    \n",
    "    # Collect results for all queries\n",
    "    for query in state.list_of_search_questions:\n",
    "        print(f\"\\n--- Searching Tavily for: '{query}' ---\")\n",
    "        search_query = state.user_question + query\n",
    "        response = tavily_client.search(query=query, search_depth=\"advanced\", max_results=2)\n",
    "        results_summary = [\n",
    "            f\"Source: {r['url']}\\nSnippet: {r['content']}\" for r in response.get('results', [])\n",
    "        ]\n",
    "        if not results_summary:\n",
    "            results_summary = [\"No relevant search results found for the query.\"]\n",
    "        \n",
    "        all_results.append(results_summary)\n",
    "\n",
    "    state.list_of_search_responses.extend(all_results)\n",
    "    state.list_of_search_questions = []  \n",
    "    \n",
    "    return state\n",
    "\n",
    "def summary(state: MarketAnalysisState):\n",
    "    print(f\"\\n--- Final Summary preparation on the way: '{state.user_question}' ---\")\n",
    "    dynamic_data = {\"user_query\":state.user_question,\n",
    "                   \"context\": '<NEW SEARCH RESULT>'.join([x[0] for x in state.list_of_search_responses]) }\n",
    "    \n",
    "    model = genai.GenerativeModel(\"gemini-2.0-flash\")\n",
    "    response = model.generate_content(\n",
    "        summary_system_prompt.format(**dynamic_data)\n",
    "    )\n",
    "    state.final_summary = response.candidates[0].content.parts[0].text\n",
    "    return state"
   ]
  },
  {
   "cell_type": "markdown",
   "id": "10b0b351-de2a-4892-9988-fcfbd245363d",
   "metadata": {},
   "source": [
    "## Creating the graph"
   ]
  },
  {
   "cell_type": "code",
   "execution_count": 7,
   "id": "011dda47-ac38-48cf-94d0-d30d0a3c7563",
   "metadata": {},
   "outputs": [
    {
     "data": {
      "text/plain": [
       "<langgraph.graph.state.StateGraph at 0x20e8f4373b0>"
      ]
     },
     "execution_count": 7,
     "metadata": {},
     "output_type": "execute_result"
    }
   ],
   "source": [
    "graph = StateGraph(MarketAnalysisState)\n",
    "\n",
    "# Only add your regular nodes\n",
    "graph.add_node(\"get_search_questions\", get_search_questions)\n",
    "graph.add_node(\"search_tool\", search_tool)\n",
    "graph.add_node(\"summary\", summary)\n",
    "\n",
    "# Set entry point\n",
    "graph.set_entry_point(\"get_search_questions\")\n",
    "graph.add_edge(\"get_search_questions\", \"search_tool\")\n",
    "graph.add_edge(\"search_tool\", \"summary\")\n",
    "graph.add_edge(\"summary\", END)\n"
   ]
  },
  {
   "cell_type": "markdown",
   "id": "9b5b2157-7cac-464e-8eea-403925c4009d",
   "metadata": {},
   "source": [
    "## Visualizing the langraph orchestration"
   ]
  },
  {
   "cell_type": "code",
   "execution_count": 31,
   "id": "e1e93ef5-a0e4-4706-8d2c-dfd7f198be66",
   "metadata": {},
   "outputs": [
    {
     "data": {
      "image/png": "[encoded data removed]",
      "text/plain": [
       "<IPython.core.display.Image object>"
      ]
     },
     "execution_count": 31,
     "metadata": {},
     "output_type": "execute_result"
    }
   ],
   "source": [
    "Image(app.get_graph().draw_mermaid_png())"
   ]
  },
  {
   "cell_type": "markdown",
   "id": "682e61c9-ed1b-4537-a28d-c6477755ff9d",
   "metadata": {},
   "source": [
    "## Executing the graph"
   ]
  },
  {
   "cell_type": "code",
   "execution_count": 25,
   "id": "ca3954d1-94cb-43fe-abab-c5c2242130a0",
   "metadata": {},
   "outputs": [
    {
     "name": "stdout",
     "output_type": "stream",
     "text": [
      "\n",
      "--- Searching Tavily for: 'What are the key trends?' ---\n",
      "\n",
      "--- Searching Tavily for: 'What are the competitive insights?' ---\n",
      "\n",
      "--- Searching Tavily for: 'What are the potential opportunities for businesses, marketing teams, real estate analysts, and investors?' ---\n",
      "\n",
      "--- Searching Tavily for: 'What are the implications for business owners and managers?' ---\n",
      "\n",
      "--- Searching Tavily for: 'What are the implications for marketing and strategy teams?' ---\n",
      "\n",
      "--- Final Summary preparation on the way: 'How to approach marketing campaign for clothing stores in Koramangala?How to approach marketing campaign for clothing stores in Koramangala?How to approach marketing campaign for clothing stores in Koramangala?How to approach marketing campaign for clothing stores in Koramangala?' ---\n"
     ]
    }
   ],
   "source": [
    "app = graph.compile()\n",
    "\n",
    "initial_state = MarketAnalysisState(\n",
    "    user_question=\"How to approach marketing campaign for clothing stores in Koramangala?\",\n",
    "    log_messages=[]\n",
    ")\n",
    "\n",
    "final_state = app.invoke(initial_state)"
   ]
  },
  {
   "cell_type": "markdown",
   "id": "777f0866-2370-424c-86a2-f392585177cc",
   "metadata": {},
   "source": [
    "## Final Executive Summary"
   ]
  },
  {
   "cell_type": "code",
   "execution_count": 29,
   "id": "900c4e15-4556-481b-b46e-6e21305f2865",
   "metadata": {},
   "outputs": [
    {
     "name": "stdout",
     "output_type": "stream",
     "text": [
      "Executive Report: Marketing Campaign Strategies for Clothing Stores in Koramangala\n",
      "\n",
      "Introduction:\n",
      "This report outlines strategies for developing effective marketing campaigns for clothing stores in Koramangala, Bangalore. Given the high competition and dynamic consumer behavior in this area, a targeted and data-driven approach is crucial for success. This report is designed to inform business owners, marketing teams, real estate analysts, and investors.\n",
      "\n",
      "Key Strategies and Considerations:\n",
      "\n",
      "1. Competitive Analysis:\n",
      "   - Identify key competitors in Koramangala.\n",
      "   - Analyze their marketing strategies, including online presence, promotions, and customer engagement tactics.\n",
      "   - Understand their peak hours and footfall to identify opportunities and potential competitive advantages.\n",
      "\n",
      "2. Target Audience Segmentation:\n",
      "   - Define the target audience based on demographics, lifestyle, and fashion preferences.\n",
      "   - Tailor marketing messages and channels to resonate with specific segments.\n",
      "   - Consider the diverse population in Koramangala, including students, young professionals, and families.\n",
      "\n",
      "3. Online Presence and Digital Marketing:\n",
      "   - Develop a strong online presence through a website and social media platforms (Instagram, Facebook).\n",
      "   - Utilize targeted advertising on social media to reach specific demographics and interests within Koramangala.\n",
      "   - Implement SEO strategies to improve search engine rankings for relevant keywords (e.g., \"clothing stores Koramangala\").\n",
      "   - Explore collaborations with local fashion bloggers and influencers to promote your store and products.\n",
      "\n",
      "4. Localized Marketing Initiatives:\n",
      "   - Participate in local events and festivals to increase brand visibility and community engagement.\n",
      "   - Partner with other local businesses (e.g., cafes, salons) for cross-promotional activities.\n",
      "   - Offer exclusive discounts and promotions to residents of Koramangala.\n",
      "   - Utilize location-based advertising to target potential customers within a specific radius of your store.\n",
      "\n",
      "5. In-Store Experience and Customer Engagement:\n",
      "   - Create a unique and inviting in-store experience to attract and retain customers.\n",
      "   - Offer personalized styling advice and exceptional customer service.\n",
      "   - Host in-store events, such as fashion shows or styling workshops, to generate excitement and drive traffic.\n",
      "   - Implement a loyalty program to reward repeat customers and encourage word-of-mouth marketing.\n",
      "\n",
      "6. Data Analysis and Optimization:\n",
      "   - Track the performance of marketing campaigns using key metrics (e.g., website traffic, social media engagement, sales).\n",
      "   - Analyze data to identify what's working and what's not, and make adjustments accordingly.\n",
      "   - Continuously optimize marketing strategies based on data insights to improve ROI.\n",
      "\n",
      "Target Audience Benefit:\n",
      "\n",
      "*   **Business Owners and Managers:** Can refine strategies based on peak customer hours and competition.\n",
      "*   **Marketing and Strategy Teams:** Can optimize promotions during high-traffic periods and create targeted campaigns.\n",
      "*   **Real Estate and Location Analysts:** Can use footfall data to recommend store locations and launch times.\n",
      "*   **Investors and Market Analysts:** Can assess market saturation and potential risks in Koramangala.\n",
      "\n",
      "Conclusion:\n",
      "A successful marketing campaign for clothing stores in Koramangala requires a multi-faceted approach that combines online and offline strategies, localized initiatives, and a strong focus on customer engagement. By understanding the competitive landscape, targeting the right audience, and continuously optimizing based on data, clothing stores can effectively attract customers and thrive in this dynamic market.\n",
      "\n"
     ]
    }
   ],
   "source": [
    "print(final_state['final_summary'])"
   ]
  },
  {
   "cell_type": "markdown",
   "id": "fa59c894-a547-4479-8988-a8d295d16e3b",
   "metadata": {},
   "source": [
    "## Internal Langraph Responses"
   ]
  },
  {
   "cell_type": "code",
   "execution_count": 27,
   "id": "60e8941d-b261-41de-a1ad-ed4564710170",
   "metadata": {},
   "outputs": [
    {
     "data": {
      "text/plain": [
       "{'user_question': 'How to approach marketing campaign for clothing stores in Koramangala?How to approach marketing campaign for clothing stores in Koramangala?How to approach marketing campaign for clothing stores in Koramangala?How to approach marketing campaign for clothing stores in Koramangala?How to approach marketing campaign for clothing stores in Koramangala?How to approach marketing campaign for clothing stores in Koramangala?How to approach marketing campaign for clothing stores in Koramangala?How to approach marketing campaign for clothing stores in Koramangala?',\n",
       " 'search_query': '',\n",
       " 'list_of_search_questions': ['What are the key trends?',\n",
       "  'What are the competitive insights?',\n",
       "  'What are the potential opportunities for businesses, marketing teams, real estate analysts, and investors?',\n",
       "  'What are the implications for business owners and managers?',\n",
       "  'What are the implications for marketing and strategy teams?',\n",
       "  'What are the key trends?',\n",
       "  'What are the competitive insights?',\n",
       "  'What are the potential opportunities for businesses, marketing teams, real estate analysts, and investors?',\n",
       "  'What are the implications for business owners and managers?',\n",
       "  'What are the implications for marketing and strategy teams?'],\n",
       " 'list_of_search_responses': [['Source: https://www.stantonchase.com/insights/white-papers/charting-the-future-6-key-trends-for-industrial-companies\\nSnippet: #### 4. Digital Transformation and Artificial Intelligence\\n\\nAs we move into the era of Industry 4.0, CEOs are leading the charge in embracing digital transformation. With 80% of them increasing digital technology investments in a bid to offset current economic pressures, it’s clear that the digital wave is sweeping across the sector. However, the transformation journey is far from uniform, with only 24% of manufacturers currently having a digital transformation strategy in place. [...] In parallel, companies are ramping up their efforts to strengthen supply chain resilience. They are working to improve end-to-end visibility, build domestic production capacity, plan for business continuity, and foster international collaboration. [...] Despite this, our survey also indicates that businesses are not standing idle but strategizing their responses. The focus has shifted to business development and cost reduction in view of inflation, cost of capital, and the burdened global supply chains. Half of the respondents pinpointed cost reduction as the linchpin for growth in the next 12 months.',\n",
       "   'Source: https://explodingtopics.com/blog/business-trends\\nSnippet: The business world continues to invest heavily in social media and tech solutions. As these trends continue to develop, we expect to see increased funding and product development.\\n\\nHowever, businesses will have to keep a sharp eye on consumer sentiment regarding environmental and corporate responsibility if they want to continue to attract new customers.\\n\\nCompanies that stay on top of key trends and innovate based on these trends are poised to come out on top. [...] \")\\n   \\n   \\n   \\n\\nYou may also like:\\n\\n   Important Retail Trends\\n   Critical Technology Trends\\n   Key Consumer Trends\\n\\nThis is an up-to-date list of key business trends in 2025, along with those that are poised to see continued growth in 2026.\\n\\nWe\\'ll cover the sectors, consumer behavior changes, and tech innovations driving each trend.\\n\\n### Instantly Analyze \\n\\nAny Market\\n\\nGet My Free Report 👉 [...] The AI system provided customers with a robust self-service portal and automatically tagged inquiries with relevant information that agents could use.\\n\\nAs a result, the company now has a 49% deflection rate via email, a 46% deflection rate via chat, and a 47% self-serve rate.\\n\\nThe overall cost savings came to $18,000 per month.\\n\\n### Key Takeaways\\n\\nThat concludes our list of important business trends that will impact various sectors from 2025-2026.'],\n",
       "  ['Source: https://sedulogroup.com/competitive-insights/\\nSnippet: Gaining a deep understanding of your competitors is a strategic imperative for lasting success. Competitive insights are the actionable knowledge you derive from meticulously analyzing your rivals. This analysis extends beyond offerings and pricing, uncovering strengths, weaknesses, opportunities, and potential market disruptions. By translating this research into strategic action, you empower sharper decision-making and outpace the competition. [...] Strategic Decision-Making: Competitive insights illuminate the market landscape. They shed light on competitor strengths and potential vulnerabilities, leading to smarter decisions in areas like marketing, pricing, and product development.\\n   Market Trends and Opportunities: Competitive intelligence doesn’t focus solely on your rivals, but also reveals burgeoning market needs, untapped audiences, and new technologies poised to disrupt. Capitalize on these early for significant growth. [...] With well-developed competitive insights, you gain the strategic tools to make more informed business decisions, identify new growth opportunities before your rivals act, adapt ahead of industry changes, and reduce business risks. Successful competitive insight focuses on three levels:',\n",
       "   'Source: https://www.sprinklr.com/blog/competitive-insights/\\nSnippet: Competitive insights refer to actionable intelligence gathered by analyzing competitors’ strategies, market trends and customer behavior. These insights cover a range of critical areas, including product positioning, marketing tactics, pricing models, feature development and customer sentiment. But the real value of running a competitive insights analysis lies in its power to help you make smarter decisions that push your business forward. [...] # 7 Strategic Competitive Insights That Fuel Smarter Business Moves\\n\\nApril 24, 2025 • 10 MIN READ\\n\\nAuthors\\n\\nNS\\n\\nNirmit Shah\\n\\nGuest Contributor, Freelancer\\nAksheeta Tyagi\\n\\nContent Marketer\\n\\nCompetitive insights are essential for making informed decisions that keep your business ahead. They provide a sharper understanding of\\n\\n→ What your competitors are doing\\n\\n→ Where the market is heading\\n\\n→ How customer preferences are shifting'],\n",
       "  ['Source: https://www.jpmorgan.com/insights/real-estate/commercial-real-estate/midyear-commercial-real-estate-outlook\\nSnippet: ## Commercial real estate opportunities\\n\\nDespite challenges facing the industry, there are still opportunities for commercial real estate investors, including:',\n",
       "   'Source: https://www.deloitte.com/us/en/insights/industry/financial-services/commercial-real-estate-outlook.html\\nSnippet: 1.   Proactively manage new financing (and refinancing) opportunities with alternative debt sources. Compared to traditional debt sourcing, commercial real estate owners and investors from our survey plan to work more with private debt (up 4%), private equity (up 2%), and banks (up 2%) for property transaction financing, while potentially dealing less with CMBS lenders (down 10%). [...] Global fundraising through early 2025 is also on track to surpass totals in the previous two years.13Notably, private credit strategies have drawn significant fundraising interest, accounting for a third of new capital raised.14With relatively high interest rates and debt set to mature in the next few years, investors and asset managers may look to capitalize on emerging opportunities in the real estate debt markets.\\n\\n### Property fundamental expectations appear positive but nuanced [...] ### Renewed availability of debt capital\\n\\nAccess to debt capital has improved and could become even more robust going forward.33 Property-value resets have helped unlock liquidity, prompting some lenders and borrowers to reengage. All property sectors have seen an increase in active lenders.'],\n",
       "  ['Source: https://business.bankofamerica.com/en/resources/how-your-business-structure-can-affect-your-taxes\\nSnippet: A business owner may find professional advice to be valuable at this point. It’s important for the business owner to discuss their options with a legal and/or tax advisor before deciding on the best structure. For simplicity, the owners of each business structure described below are treated as individuals. However, the owners of a business may be other entities, which may have different legal or tax implications. Business owners should consult their legal and/or tax advisors. [...] When deciding to establish or formalize a business as a corporation, limited liability company or partnership, the business owner should take the time to understand the ramifications. Additional considerations apply to nonprofit entities. Structure, like a good foundation, bears the weight of whatever the owner builds, and it establishes how the owner will deal with their partners, customers and clients on tax issues, as well as with the IRS and state taxing agencies. [...] If an individual is earning business income and owns an unincorporated business by themselves, that person is considered a sole proprietor. For a sole proprietorship, business income is reported directly on the owner’s personal federal income tax return, which means their business should not be treated separately for federal income tax purposes. Instead, the owner of the business will owe federal income taxes on their business’s earnings at their individual federal income tax rate.',\n",
       "   'Source: https://home.treasury.gov/news/featured-stories/small-business-and-entrepreneurship-in-the-post-covid-expansion\\nSnippet: The U.S. Chamber of Commerce and MetLife publish an alternative Small Business Index (Figure 4), which aims to measure optimism based on a similar set of questions posed to a sample of 750 small business owners and managers. This measure did not rebound as quickly from the pandemic, but has been climbing steadily since the pandemic, in considerable tension with the NFIB survey. But like the NFIB survey, it has also had a strong 2024, and reached a new post-pandemic high in the second quarter of'],\n",
       "  ['Source: https://demandscience.com/resources/blog/aligning-sales-and-marketing-teams/\\nSnippet: Marketing teams are responsible for the strategic development and execution of a company’s branding, advertising, and promotional activities. Their goal is to create awareness, generate leads, and position the company as a trusted and go-to solution in the eyes of the target audience. [...] Establishing shared objectives: Sales and marketing teams should work together to define common objectives and key performance indicators (KPIs). This ensures that both departments are aligned and working towards the same goals.\\n Developing a unified messaging strategy: Sales and marketing teams should collaborate to create a consistent messaging strategy. This ensures that the brand’s value proposition and key messages are communicated effectively to the target audience. [...] Poor communication and a lack of collaboration between sales and marketing teams can lead to misunderstandings, duplication of efforts, and a disconnect in messaging and strategy.\\n This can result in a fragmented customer experience and a loss of efficiency in the overall sales and marketing process.\\n\\n#### Misalignment in Target Audience and Messaging',\n",
       "   \"Source: https://www.marketingeyeatlanta.com/blog/marketing/the-impact-of-marketing-models-designing-effective-marketing-strategies.html\\nSnippet: ### Product\\n\\nThis element involves developing products or services that meet the needs and desires of the target audience. It includes aspects such as product features, branding, and differentiation to create a competitive advantage.\\n\\n### Price\\n\\nDetermining the right pricing strategy is crucial for market success. Marketing teams analyze factors like costs, competition, and customer perceptions to set optimal prices.\\n\\n### Place [...] valuable insights, improve their competitive advantage, and stay ahead in an ever-evolving marketing landscape. Adopting a data-driven and customer-centric approach through these models enables marketing teams to thrive and deliver exceptional results in the dynamic and ever-changing world of marketing. [...] The competencies and expertise of the marketing team members, ensuring they possess the required skills for successful execution.\\n\\n### Staff\\n\\nThe human resources within the marketing department, ensuring the right people are in the right roles.\\n\\n### Style\\n\\nThe leadership and management style that shapes the marketing team's culture and influences decision-making.\\n\\n### Shared Values\\n\\nThe core values and beliefs that underpin the marketing team's identity and guide its actions.\"],\n",
       "  ['Source: https://www.stantonchase.com/insights/white-papers/charting-the-future-6-key-trends-for-industrial-companies\\nSnippet: #### 4. Digital Transformation and Artificial Intelligence\\n\\nAs we move into the era of Industry 4.0, CEOs are leading the charge in embracing digital transformation. With 80% of them increasing digital technology investments in a bid to offset current economic pressures, it’s clear that the digital wave is sweeping across the sector. However, the transformation journey is far from uniform, with only 24% of manufacturers currently having a digital transformation strategy in place. [...] In parallel, companies are ramping up their efforts to strengthen supply chain resilience. They are working to improve end-to-end visibility, build domestic production capacity, plan for business continuity, and foster international collaboration. [...] Despite this, our survey also indicates that businesses are not standing idle but strategizing their responses. The focus has shifted to business development and cost reduction in view of inflation, cost of capital, and the burdened global supply chains. Half of the respondents pinpointed cost reduction as the linchpin for growth in the next 12 months.',\n",
       "   'Source: https://explodingtopics.com/blog/business-trends\\nSnippet: The business world continues to invest heavily in social media and tech solutions. As these trends continue to develop, we expect to see increased funding and product development.\\n\\nHowever, businesses will have to keep a sharp eye on consumer sentiment regarding environmental and corporate responsibility if they want to continue to attract new customers.\\n\\nCompanies that stay on top of key trends and innovate based on these trends are poised to come out on top. [...] \")\\n   \\n   \\n   \\n\\nYou may also like:\\n\\n   Important Retail Trends\\n   Critical Technology Trends\\n   Key Consumer Trends\\n\\nThis is an up-to-date list of key business trends in 2025, along with those that are poised to see continued growth in 2026.\\n\\nWe\\'ll cover the sectors, consumer behavior changes, and tech innovations driving each trend.\\n\\n### Instantly Analyze \\n\\nAny Market\\n\\nGet My Free Report 👉 [...] The AI system provided customers with a robust self-service portal and automatically tagged inquiries with relevant information that agents could use.\\n\\nAs a result, the company now has a 49% deflection rate via email, a 46% deflection rate via chat, and a 47% self-serve rate.\\n\\nThe overall cost savings came to $18,000 per month.\\n\\n### Key Takeaways\\n\\nThat concludes our list of important business trends that will impact various sectors from 2025-2026.'],\n",
       "  ['Source: https://sedulogroup.com/competitive-insights/\\nSnippet: Gaining a deep understanding of your competitors is a strategic imperative for lasting success. Competitive insights are the actionable knowledge you derive from meticulously analyzing your rivals. This analysis extends beyond offerings and pricing, uncovering strengths, weaknesses, opportunities, and potential market disruptions. By translating this research into strategic action, you empower sharper decision-making and outpace the competition. [...] Strategic Decision-Making: Competitive insights illuminate the market landscape. They shed light on competitor strengths and potential vulnerabilities, leading to smarter decisions in areas like marketing, pricing, and product development.\\n   Market Trends and Opportunities: Competitive intelligence doesn’t focus solely on your rivals, but also reveals burgeoning market needs, untapped audiences, and new technologies poised to disrupt. Capitalize on these early for significant growth. [...] With well-developed competitive insights, you gain the strategic tools to make more informed business decisions, identify new growth opportunities before your rivals act, adapt ahead of industry changes, and reduce business risks. Successful competitive insight focuses on three levels:',\n",
       "   'Source: https://www.sprinklr.com/blog/competitive-insights/\\nSnippet: Competitive insights refer to actionable intelligence gathered by analyzing competitors’ strategies, market trends and customer behavior. These insights cover a range of critical areas, including product positioning, marketing tactics, pricing models, feature development and customer sentiment. But the real value of running a competitive insights analysis lies in its power to help you make smarter decisions that push your business forward. [...] # 7 Strategic Competitive Insights That Fuel Smarter Business Moves\\n\\nApril 24, 2025 • 10 MIN READ\\n\\nAuthors\\n\\nNS\\n\\nNirmit Shah\\n\\nGuest Contributor, Freelancer\\nAksheeta Tyagi\\n\\nContent Marketer\\n\\nCompetitive insights are essential for making informed decisions that keep your business ahead. They provide a sharper understanding of\\n\\n→ What your competitors are doing\\n\\n→ Where the market is heading\\n\\n→ How customer preferences are shifting'],\n",
       "  ['Source: https://www.jpmorgan.com/insights/real-estate/commercial-real-estate/midyear-commercial-real-estate-outlook\\nSnippet: ## Commercial real estate opportunities\\n\\nDespite challenges facing the industry, there are still opportunities for commercial real estate investors, including:',\n",
       "   'Source: https://www.deloitte.com/us/en/insights/industry/financial-services/commercial-real-estate-outlook.html\\nSnippet: 1.   Proactively manage new financing (and refinancing) opportunities with alternative debt sources. Compared to traditional debt sourcing, commercial real estate owners and investors from our survey plan to work more with private debt (up 4%), private equity (up 2%), and banks (up 2%) for property transaction financing, while potentially dealing less with CMBS lenders (down 10%). [...] Global fundraising through early 2025 is also on track to surpass totals in the previous two years.13Notably, private credit strategies have drawn significant fundraising interest, accounting for a third of new capital raised.14With relatively high interest rates and debt set to mature in the next few years, investors and asset managers may look to capitalize on emerging opportunities in the real estate debt markets.\\n\\n### Property fundamental expectations appear positive but nuanced [...] ### Renewed availability of debt capital\\n\\nAccess to debt capital has improved and could become even more robust going forward.33 Property-value resets have helped unlock liquidity, prompting some lenders and borrowers to reengage. All property sectors have seen an increase in active lenders.'],\n",
       "  ['Source: https://business.bankofamerica.com/en/resources/how-your-business-structure-can-affect-your-taxes\\nSnippet: A business owner may find professional advice to be valuable at this point. It’s important for the business owner to discuss their options with a legal and/or tax advisor before deciding on the best structure. For simplicity, the owners of each business structure described below are treated as individuals. However, the owners of a business may be other entities, which may have different legal or tax implications. Business owners should consult their legal and/or tax advisors. [...] When deciding to establish or formalize a business as a corporation, limited liability company or partnership, the business owner should take the time to understand the ramifications. Additional considerations apply to nonprofit entities. Structure, like a good foundation, bears the weight of whatever the owner builds, and it establishes how the owner will deal with their partners, customers and clients on tax issues, as well as with the IRS and state taxing agencies. [...] If an individual is earning business income and owns an unincorporated business by themselves, that person is considered a sole proprietor. For a sole proprietorship, business income is reported directly on the owner’s personal federal income tax return, which means their business should not be treated separately for federal income tax purposes. Instead, the owner of the business will owe federal income taxes on their business’s earnings at their individual federal income tax rate.',\n",
       "   'Source: https://home.treasury.gov/news/featured-stories/small-business-and-entrepreneurship-in-the-post-covid-expansion\\nSnippet: The U.S. Chamber of Commerce and MetLife publish an alternative Small Business Index (Figure 4), which aims to measure optimism based on a similar set of questions posed to a sample of 750 small business owners and managers. This measure did not rebound as quickly from the pandemic, but has been climbing steadily since the pandemic, in considerable tension with the NFIB survey. But like the NFIB survey, it has also had a strong 2024, and reached a new post-pandemic high in the second quarter of'],\n",
       "  ['Source: https://demandscience.com/resources/blog/aligning-sales-and-marketing-teams/\\nSnippet: Marketing teams are responsible for the strategic development and execution of a company’s branding, advertising, and promotional activities. Their goal is to create awareness, generate leads, and position the company as a trusted and go-to solution in the eyes of the target audience. [...] Establishing shared objectives: Sales and marketing teams should work together to define common objectives and key performance indicators (KPIs). This ensures that both departments are aligned and working towards the same goals.\\n Developing a unified messaging strategy: Sales and marketing teams should collaborate to create a consistent messaging strategy. This ensures that the brand’s value proposition and key messages are communicated effectively to the target audience. [...] Poor communication and a lack of collaboration between sales and marketing teams can lead to misunderstandings, duplication of efforts, and a disconnect in messaging and strategy.\\n This can result in a fragmented customer experience and a loss of efficiency in the overall sales and marketing process.\\n\\n#### Misalignment in Target Audience and Messaging',\n",
       "   \"Source: https://www.marketingeyeatlanta.com/blog/marketing/the-impact-of-marketing-models-designing-effective-marketing-strategies.html\\nSnippet: ### Product\\n\\nThis element involves developing products or services that meet the needs and desires of the target audience. It includes aspects such as product features, branding, and differentiation to create a competitive advantage.\\n\\n### Price\\n\\nDetermining the right pricing strategy is crucial for market success. Marketing teams analyze factors like costs, competition, and customer perceptions to set optimal prices.\\n\\n### Place [...] valuable insights, improve their competitive advantage, and stay ahead in an ever-evolving marketing landscape. Adopting a data-driven and customer-centric approach through these models enables marketing teams to thrive and deliver exceptional results in the dynamic and ever-changing world of marketing. [...] The competencies and expertise of the marketing team members, ensuring they possess the required skills for successful execution.\\n\\n### Staff\\n\\nThe human resources within the marketing department, ensuring the right people are in the right roles.\\n\\n### Style\\n\\nThe leadership and management style that shapes the marketing team's culture and influences decision-making.\\n\\n### Shared Values\\n\\nThe core values and beliefs that underpin the marketing team's identity and guide its actions.\"]],\n",
       " 'log_messages': [],\n",
       " 'final_summary': 'Executive Report: Marketing Campaign Strategies for Clothing Stores in Koramangala\\n\\nIntroduction:\\nThis report outlines strategies for developing effective marketing campaigns for clothing stores in Koramangala, Bangalore. Given the high competition and dynamic consumer behavior in this area, a targeted and data-driven approach is crucial for success. This report is designed to inform business owners, marketing teams, real estate analysts, and investors.\\n\\nKey Strategies and Considerations:\\n\\n1. Competitive Analysis:\\n   - Identify key competitors in Koramangala.\\n   - Analyze their marketing strategies, including online presence, promotions, and customer engagement tactics.\\n   - Understand their peak hours and footfall to identify opportunities and potential competitive advantages.\\n\\n2. Target Audience Segmentation:\\n   - Define the target audience based on demographics, lifestyle, and fashion preferences.\\n   - Tailor marketing messages and channels to resonate with specific segments.\\n   - Consider the diverse population in Koramangala, including students, young professionals, and families.\\n\\n3. Online Presence and Digital Marketing:\\n   - Develop a strong online presence through a website and social media platforms (Instagram, Facebook).\\n   - Utilize targeted advertising on social media to reach specific demographics and interests within Koramangala.\\n   - Implement SEO strategies to improve search engine rankings for relevant keywords (e.g., \"clothing stores Koramangala\").\\n   - Explore collaborations with local fashion bloggers and influencers to promote your store and products.\\n\\n4. Localized Marketing Initiatives:\\n   - Participate in local events and festivals to increase brand visibility and community engagement.\\n   - Partner with other local businesses (e.g., cafes, salons) for cross-promotional activities.\\n   - Offer exclusive discounts and promotions to residents of Koramangala.\\n   - Utilize location-based advertising to target potential customers within a specific radius of your store.\\n\\n5. In-Store Experience and Customer Engagement:\\n   - Create a unique and inviting in-store experience to attract and retain customers.\\n   - Offer personalized styling advice and exceptional customer service.\\n   - Host in-store events, such as fashion shows or styling workshops, to generate excitement and drive traffic.\\n   - Implement a loyalty program to reward repeat customers and encourage word-of-mouth marketing.\\n\\n6. Data Analysis and Optimization:\\n   - Track the performance of marketing campaigns using key metrics (e.g., website traffic, social media engagement, sales).\\n   - Analyze data to identify what\\'s working and what\\'s not, and make adjustments accordingly.\\n   - Continuously optimize marketing strategies based on data insights to improve ROI.\\n\\nTarget Audience Benefit:\\n\\n*   **Business Owners and Managers:** Can refine strategies based on peak customer hours and competition.\\n*   **Marketing and Strategy Teams:** Can optimize promotions during high-traffic periods and create targeted campaigns.\\n*   **Real Estate and Location Analysts:** Can use footfall data to recommend store locations and launch times.\\n*   **Investors and Market Analysts:** Can assess market saturation and potential risks in Koramangala.\\n\\nConclusion:\\nA successful marketing campaign for clothing stores in Koramangala requires a multi-faceted approach that combines online and offline strategies, localized initiatives, and a strong focus on customer engagement. By understanding the competitive landscape, targeting the right audience, and continuously optimizing based on data, clothing stores can effectively attract customers and thrive in this dynamic market.\\n'}"
      ]
     },
     "execution_count": 27,
     "metadata": {},
     "output_type": "execute_result"
    }
   ],
   "source": [
    "final_state"
   ]
  },
  {
   "cell_type": "markdown",
   "id": "3af8f2bc-4bdb-4e54-a433-913b36f2de64",
   "metadata": {},
   "source": []
  }
 ],
 "metadata": {
  "kernelspec": {
   "display_name": "Python [conda env:base] *",
   "language": "python",
   "name": "conda-base-py"
  },
  "language_info": {
   "codemirror_mode": {
    "name": "ipython",
    "version": 3
   },
   "file_extension": ".py",
   "mimetype": "text/x-python",
   "name": "python",
   "nbconvert_exporter": "python",
   "pygments_lexer": "ipython3",
   "version": "3.12.7"
  }
 },
 "nbformat": 4,
 "nbformat_minor": 5
}
