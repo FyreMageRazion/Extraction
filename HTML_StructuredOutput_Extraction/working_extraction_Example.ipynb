{
 "cells": [
  {
   "cell_type": "code",
   "execution_count": 1,
   "id": "7093a55b-ea3c-4141-9d66-05381516c64b",
   "metadata": {},
   "outputs": [],
   "source": [
    "from typing import List, Optional\n",
    "from pydantic import BaseModel, Field\n",
    "from langchain.chains import create_extraction_chain_pydantic\n",
    "from langchain_community.llms import Ollama"
   ]
  },
  {
   "cell_type": "code",
   "execution_count": 3,
   "id": "b2bed266-c153-4488-ae8d-129755616939",
   "metadata": {},
   "outputs": [
    {
     "name": "stderr",
     "output_type": "stream",
     "text": [
      "C:\\Users\\krish\\AppData\\Local\\Temp\\ipykernel_5768\\4113959716.py:2: LangChainDeprecationWarning: The class `Ollama` was deprecated in LangChain 0.3.1 and will be removed in 1.0.0. An updated version of the class exists in the :class:`~langchain-ollama package and should be used instead. To use it run `pip install -U :class:`~langchain-ollama` and import as `from :class:`~langchain_ollama import OllamaLLM``.\n",
      "  llm=Ollama(model='llama3.2:3b', temperature=0.01)\n"
     ]
    }
   ],
   "source": [
    "# Initialize the language model\n",
    "llm=Ollama(model='llama3.2:3b', temperature=0.01)"
   ]
  },
  {
   "cell_type": "markdown",
   "id": "18fe9972-4a4c-4ba1-8bac-bca60b40c9af",
   "metadata": {},
   "source": [
    "## With Pydantic Formats"
   ]
  },
  {
   "cell_type": "code",
   "execution_count": 6,
   "id": "15b4edfa-c117-449d-bd0e-36a7fe7f2e31",
   "metadata": {},
   "outputs": [],
   "source": [
    "from ollama import chat"
   ]
  },
  {
   "cell_type": "code",
   "execution_count": 22,
   "id": "e118b71b-1fff-41a4-b978-a242abe5bebf",
   "metadata": {},
   "outputs": [
    {
     "name": "stdout",
     "output_type": "stream",
     "text": [
      "name='Canada' capital='Ottawa' languages=['English', 'French']\n"
     ]
    }
   ],
   "source": [
    "class Country(BaseModel):\n",
    "  name: str\n",
    "  capital: str\n",
    "  languages: list[str]\n",
    "\n",
    "response = chat(\n",
    "  messages=[\n",
    "    {\n",
    "      'role': 'user',\n",
    "      'content': 'Tell me about Canada.',\n",
    "    }\n",
    "  ],\n",
    "  model='llama3.2:3b',\n",
    "  format=Country.model_json_schema(),\n",
    ")\n",
    "\n",
    "country = Country.model_validate_json(response.message.content)\n",
    "print(country)"
   ]
  },
  {
   "cell_type": "code",
   "execution_count": null,
   "id": "2274c364-446d-4111-b4fa-2ab0f16e51bd",
   "metadata": {},
   "outputs": [],
   "source": []
  },
  {
   "cell_type": "code",
   "execution_count": null,
   "id": "bf94eabc-7961-4105-a6c5-5c170d9c14b0",
   "metadata": {},
   "outputs": [],
   "source": []
  },
  {
   "cell_type": "markdown",
   "id": "ebfd62c8-a3ab-40e7-8df2-bab0ac604625",
   "metadata": {},
   "source": [
    "## Format mentioned in Prompt directly"
   ]
  },
  {
   "cell_type": "markdown",
   "id": "5ec7dcdd-18c6-454e-b612-8011b467a3b1",
   "metadata": {},
   "source": [
    "#### The following is an partial example HTML for demonstration"
   ]
  },
  {
   "cell_type": "code",
   "execution_count": 32,
   "id": "6cf8ea96-2392-4678-9c5a-8a6343dfba04",
   "metadata": {},
   "outputs": [],
   "source": [
    "# The following is an example HTML for demonstration and testing\n",
    "html_input = \"\"\"\n",
    "<html>\n",
    "  <body>\n",
    "    <h1>Premium Mobile Plan</h1>\n",
    "    <div class=\"plan-details\">\n",
    "      <span class=\"name\">Premium Plan</span>\n",
    "      <span class=\"price\">$99.99</span>\n",
    "      <span class=\"currency\">USD</span>\n",
    "      <span class=\"billing-period\">Monthly</span>\n",
    "      <span class=\"discounted-price\">$89.99</span>\n",
    "      <span class=\"discount-duration\">12 months</span>\n",
    "      <span class=\"autopay-discount\">True</span>\n",
    "      <span class=\"part-number\">PP-2025-01</span>\n",
    "    </div>\n",
    "    \n",
    "    <div class=\"features\">\n",
    "      <ul>\n",
    "        <li>\n",
    "          <span class=\"description\">High-speed internet</span>\n",
    "          <span class=\"type\">Data</span>\n",
    "          <span class=\"subcategory\">Unlimited, 5G</span>\n",
    "        </li>\n",
    "        <li>\n",
    "          <span class=\"description\">Global roaming</span>\n",
    "          <span class=\"type\">Roaming</span>\n",
    "          <span class=\"subcategory\">International</span>\n",
    "        </li>\n",
    "      </ul>\n",
    "    </div>\n",
    "    \n",
    "    <div class=\"promotion\">\n",
    "      <span class=\"description\">Get 10% off on your first month</span>\n",
    "      <span class=\"value\">10.0</span>\n",
    "      <span class=\"type\">Discount</span>\n",
    "    </div>\n",
    "    \n",
    "    <div class=\"bundle\">\n",
    "      <span class=\"bundle-name\">Data Bundle</span>\n",
    "      <ul>\n",
    "        <li>Extra 10GB Data</li>\n",
    "        <li>Unlimited Calls</li>\n",
    "      </ul>\n",
    "    </div>\n",
    "  </body>\n",
    "</html>\n",
    "\"\"\""
   ]
  },
  {
   "cell_type": "markdown",
   "id": "2367a63b-d7c6-4695-b608-f6c3964bab0f",
   "metadata": {},
   "source": [
    "#### System Message Prompt and Structured output definition is here."
   ]
  },
  {
   "cell_type": "code",
   "execution_count": 35,
   "id": "da62330c-b520-4439-a98c-a93f55bd3f3a",
   "metadata": {},
   "outputs": [],
   "source": [
    "# Prompt and Structured output definition is here.\n",
    "system_message = f\"\"\"\n",
    "Extract the following structured data from the HTML:\n",
    "\n",
    "Plan Information:\n",
    "- Name of the plan\n",
    "- Price, currency, billing period\n",
    "- Discounted price, discount duration, autopay discount, and part number\n",
    "\n",
    "Features:\n",
    "- Feature description, type, and subcategories\n",
    "\n",
    "Promotions:\n",
    "- Promotion description, value, and type\n",
    "\n",
    "Bundles:\n",
    "- Bundle name and included features\n",
    "\n",
    "Please return the data in the following JSON format:\n",
    "\n",
    "{{\n",
    "  \"name\": \"\", \n",
    "  \"price\": 0, \n",
    "  \"currency\": \"\", \n",
    "  \"billing_period\": \"\", \n",
    "  \"discounted_price\": 0, \n",
    "  \"discount_duration\": \"\", \n",
    "  \"autopay_discount\": false, \n",
    "  \"part_number\": \"\", \n",
    "  \"features\": [\n",
    "    {{\n",
    "      \"description\": \"\", \n",
    "      \"type\": \"\", \n",
    "      \"subcategory\": []\n",
    "    }}\n",
    "  ], \n",
    "  \"promotions\": [\n",
    "    {{\n",
    "      \"description\": \"\", \n",
    "      \"value\": 0, \n",
    "      \"type\": \"\"\n",
    "    }}\n",
    "  ], \n",
    "  \"bundles\": [\n",
    "    {{\n",
    "      \"bundle_name\": \"\", \n",
    "      \"features\": []\n",
    "    }}\n",
    "  ]\n",
    "}}\n",
    "\"\"\""
   ]
  },
  {
   "cell_type": "markdown",
   "id": "0998b189-9909-493b-8510-adb7d3b0a119",
   "metadata": {},
   "source": [
    "#### Structured Output is enabled only for a few models and has to be interacted with in a chat format when using Ollama."
   ]
  },
  {
   "cell_type": "code",
   "execution_count": 39,
   "id": "50773b2e-2dcb-41ef-a9ec-c3678624615b",
   "metadata": {},
   "outputs": [],
   "source": [
    "response = chat(\n",
    "    messages=[\n",
    "        {\"role\": \"system\", \"content\": system_message},\n",
    "        {\"role\": \"user\", \"content\": html_input},\n",
    "    ],\n",
    "    model=\"llama3.2:3b\",\n",
    ")"
   ]
  },
  {
   "cell_type": "code",
   "execution_count": 44,
   "id": "273e3683-39aa-4333-bc21-34b6dff1254c",
   "metadata": {},
   "outputs": [
    {
     "name": "stdout",
     "output_type": "stream",
     "text": [
      "model='llama3.2:3b' created_at='2025-04-27T14:25:06.6155091Z' done=True done_reason='stop' total_duration=75339109700 load_duration=55256800 prompt_eval_count=622 prompt_eval_duration=4632590200 eval_count=283 eval_duration=70643282600 message=Message(role='assistant', content='Here is the extracted data in JSON format:\\n\\n```json\\n{\\n  \"name\": \"Premium Mobile Plan\",\\n  \"price\": 99.99,\\n  \"currency\": \"USD\",\\n  \"billing_period\": \"Monthly\",\\n  \"discounted_price\": 89.99,\\n  \"discount_duration\": \"12 months\",\\n  \"autopay_discount\": true,\\n  \"part_number\": \"PP-2025-01\",\\n  \"features\": [\\n    {\\n      \"description\": \"High-speed internet\",\\n      \"type\": \"Data\",\\n      \"subcategory\": [\"Unlimited\", \"5G\"]\\n    },\\n    {\\n      \"description\": \"Global roaming\",\\n      \"type\": \"Roaming\",\\n      \"subcategory\": [\"International\"]\\n    }\\n  ],\\n  \"promotions\": [\\n    {\\n      \"description\": \"Get 10% off on your first month\",\\n      \"value\": 10.0,\\n      \"type\": \"Discount\"\\n    }\\n  ],\\n  \"bundles\": [\\n    {\\n      \"bundle_name\": \"Data Bundle\",\\n      \"features\": [\"Extra 10GB Data\", \"Unlimited Calls\"]\\n    }\\n  ]\\n}\\n```\\n\\nNote that I\\'ve used default values for features and promotions with no description, type or subcategory. Also, autopay_discount is set to true because the text in the HTML indicates it\\'s a discounted price with autopay discount enabled.', images=None, tool_calls=None)\n"
     ]
    }
   ],
   "source": [
    "print(response)"
   ]
  },
  {
   "cell_type": "markdown",
   "id": "1b190605-16b3-4f89-a981-4b72cab9e02d",
   "metadata": {},
   "source": [
    "#### Performing some additonal output parsing"
   ]
  },
  {
   "cell_type": "code",
   "execution_count": 46,
   "id": "668abb27-a717-48c8-9664-85daabd7166b",
   "metadata": {},
   "outputs": [
    {
     "name": "stdout",
     "output_type": "stream",
     "text": [
      "\n",
      "{\n",
      "  \"name\": \"Premium Mobile Plan\",\n",
      "  \"price\": 99.99,\n",
      "  \"currency\": \"USD\",\n",
      "  \"billing_period\": \"Monthly\",\n",
      "  \"discounted_price\": 89.99,\n",
      "  \"discount_duration\": \"12 months\",\n",
      "  \"autopay_discount\": true,\n",
      "  \"part_number\": \"PP-2025-01\",\n",
      "  \"features\": [\n",
      "    {\n",
      "      \"description\": \"High-speed internet\",\n",
      "      \"type\": \"Data\",\n",
      "      \"subcategory\": [\"Unlimited\", \"5G\"]\n",
      "    },\n",
      "    {\n",
      "      \"description\": \"Global roaming\",\n",
      "      \"type\": \"Roaming\",\n",
      "      \"subcategory\": [\"International\"]\n",
      "    }\n",
      "  ],\n",
      "  \"promotions\": [\n",
      "    {\n",
      "      \"description\": \"Get 10% off on your first month\",\n",
      "      \"value\": 10.0,\n",
      "      \"type\": \"Discount\"\n",
      "    }\n",
      "  ],\n",
      "  \"bundles\": [\n",
      "    {\n",
      "      \"bundle_name\": \"Data Bundle\",\n",
      "      \"features\": [\"Extra 10GB Data\", \"Unlimited Calls\"]\n",
      "    }\n",
      "  ]\n",
      "}\n",
      "\n"
     ]
    }
   ],
   "source": [
    "# This needs to be custom written depending on the kind of response from the choose model, may change if the system prompt changes\n",
    "to_validate = response['message']['content'].split(\"json\")[1].split(\"```\")[0]\n",
    "print(to_validate)"
   ]
  },
  {
   "cell_type": "markdown",
   "id": "3f4f7df1-49d9-4166-bba2-7f6ee7cafc2b",
   "metadata": {},
   "source": [
    "#### Pydandic Validation"
   ]
  },
  {
   "cell_type": "code",
   "execution_count": 53,
   "id": "fe8c392b-d206-4065-9a18-5d8755ee3fa6",
   "metadata": {},
   "outputs": [],
   "source": [
    "class Feature(BaseModel):\n",
    "    description: Optional[str] = None\n",
    "    type: Optional[str] = None\n",
    "    subcategory: Optional[List[str]] = None\n",
    "\n",
    "class Promotion(BaseModel):\n",
    "    description: Optional[str] = None\n",
    "    value: Optional[float] = None\n",
    "    type: Optional[str] = None\n",
    "\n",
    "class BundleBenefit(BaseModel):\n",
    "    bundle_name: Optional[str] = None\n",
    "    features: Optional[List[str]] = None\n",
    "\n",
    "class PlanDetails(BaseModel):\n",
    "    speed: Optional[str] = None\n",
    "    cloud_storage: Optional[str] = None\n",
    "    hotspot: Optional[str] = None\n",
    "    device_protection: Optional[bool] = None\n",
    "    international_calling: Optional[str] = None\n",
    "    service_days: Optional[int] = None\n",
    "\n",
    "class Plan(BaseModel):\n",
    "    name: Optional[str] = None\n",
    "    price: Optional[float] = None\n",
    "    currency: Optional[str] = None\n",
    "    billing_period: Optional[str] = None\n",
    "    discounted_price: Optional[float] = None\n",
    "    discount_duration: Optional[str] = None\n",
    "    autopay_discount: Optional[bool] = None\n",
    "    part_number: Optional[str] = None\n",
    "    features: Optional[List[Feature]] = None\n",
    "    promotions: Optional[List[Promotion]] = None\n",
    "    bundles: Optional[List[BundleBenefit]] = None\n",
    "    details: Optional[PlanDetails] = None"
   ]
  },
  {
   "cell_type": "code",
   "execution_count": 55,
   "id": "00053930-1a6c-4cbd-a92b-a86636655ac7",
   "metadata": {},
   "outputs": [
    {
     "name": "stdout",
     "output_type": "stream",
     "text": [
      "name='Premium Mobile Plan' price=99.99 currency='USD' billing_period='Monthly' discounted_price=89.99 discount_duration='12 months' autopay_discount=True part_number='PP-2025-01' features=[Feature(description='High-speed internet', type='Data', subcategory=['Unlimited', '5G']), Feature(description='Global roaming', type='Roaming', subcategory=['International'])] promotions=[Promotion(description='Get 10% off on your first month', value=10.0, type='Discount')] bundles=[BundleBenefit(bundle_name='Data Bundle', features=['Extra 10GB Data', 'Unlimited Calls'])] details=None\n"
     ]
    }
   ],
   "source": [
    "# Validate and parse the response content with Pydantic\n",
    "plan = Plan.model_validate_json(to_validate)\n",
    "print(plan)"
   ]
  },
  {
   "cell_type": "markdown",
   "id": "900d6391-272c-4788-9ce3-165fe009bff7",
   "metadata": {},
   "source": [
    "### Format parameter in chat method attempt"
   ]
  },
  {
   "cell_type": "code",
   "execution_count": 63,
   "id": "4d53d89d-0efb-4888-9602-a4a4f7806f70",
   "metadata": {},
   "outputs": [],
   "source": [
    "response = chat(\n",
    "    messages=[\n",
    "        {\"role\": \"system\", \"content\": system_message},\n",
    "        {\"role\": \"user\", \"content\": html_input},\n",
    "    ],\n",
    "    model=\"llama3.2:3b\",\n",
    "    format=Plan.model_json_schema(),\n",
    ")"
   ]
  },
  {
   "cell_type": "code",
   "execution_count": 67,
   "id": "ce2662af-f326-4df5-bd57-57323d1437af",
   "metadata": {},
   "outputs": [
    {
     "name": "stdout",
     "output_type": "stream",
     "text": [
      "{\"name\": \"Premium Mobile Plan\", \"price\": 99.99, \"currency\": \"USD\", \"billing_period\": \"Monthly\", \"discounted_price\": 89.99, \"discount_duration\": \"12 months\", \"autopay_discount\": true, \"part_number\": \"PP-2025-01\", \"features\": [{\"description\": \"High-speed internet\", \"type\": \"Data\", \"subcategory\": [\"Unlimited\", \"5G\"]}, {\"description\": \"Global roaming\", \"type\": \"Roaming\", \"subcategory\": [\"International\"]}],\"promotions\":[{\"description\": \"Get 10% off on your first month\", \"value\": 10.0, \"type\": \"Discount\"}],\"bundles\":[{\"bundle_name\": \"Data Bundle\", \"features\": [\"Extra 10GB Data\", \"Unlimited Calls\"]}]}\n"
     ]
    }
   ],
   "source": [
    "print(response.message.content)"
   ]
  },
  {
   "cell_type": "markdown",
   "id": "808b23a7-5f81-4502-bd64-f518cb25532d",
   "metadata": {},
   "source": [
    "## The following is a complete entire StraightTalk Plan HTML Demonstration"
   ]
  },
  {
   "cell_type": "code",
   "execution_count": 8,
   "id": "d183a3ad-9002-4935-a94d-e429aba341db",
   "metadata": {},
   "outputs": [],
   "source": [
    "class Feature(BaseModel):\n",
    "    description: Optional[str] = Field(None, description=\"Description of the feature\")\n",
    "    type: Optional[str] = Field(None, description=\"Type of feature\")\n",
    "    subcategory: Optional[List[str]] = Field(None, description=\"Subcategories of the feature\")\n",
    "\n",
    "class Promotion(BaseModel):\n",
    "    description: Optional[str] = Field(None, description=\"Description of the promotion\")\n",
    "    value: Optional[float] = Field(None, description=\"Value of the promotion\")\n",
    "    type: Optional[str] = Field(None, description=\"Type of promotion\")\n",
    "\n",
    "class BundleBenefit(BaseModel):\n",
    "    bundle_name: Optional[str] = Field(None, description=\"Name of the bundle\")\n",
    "    features: Optional[List[str]] = Field(None, description=\"List of features included in the bundle\")\n",
    "\n",
    "class SavingsOffer(BaseModel):\n",
    "    description: Optional[str] = Field(None, description=\"Description of the savings offer\")\n",
    "    offers: Optional[List[dict]] = Field(None, description=\"List of individual offers\")\n",
    "\n",
    "class PlanDetails(BaseModel):\n",
    "    speed: Optional[str] = Field(None, description=\"Speed information\")\n",
    "    cloud_storage: Optional[str] = Field(None, description=\"Cloud storage details\")\n",
    "    hotspot: Optional[str] = Field(None, description=\"Hotspot information\")\n",
    "    device_protection: Optional[bool] = Field(None, description=\"Device protection availability\")\n",
    "    international_calling: Optional[str] = Field(None, description=\"International calling details\")\n",
    "    service_days: Optional[int] = Field(None, description=\"Number of service days\")\n",
    "\n",
    "class StraightTalkPlan(BaseModel):\n",
    "    name: Optional[str] = Field(None, description=\"Name of the plan\")\n",
    "    price: Optional[float] = Field(None, description=\"Price of the plan\")\n",
    "    currency: Optional[str] = Field(None, description=\"Currency of the price\")\n",
    "    billing_period: Optional[str] = Field(None, description=\"Billing period\")\n",
    "    discounted_price: Optional[float] = Field(None, description=\"Discounted price if available\")\n",
    "    discount_duration: Optional[str] = Field(None, description=\"Duration of the discount\")\n",
    "    autopay_discount: Optional[bool] = Field(None, description=\"Indicates if autopay discount is available\")\n",
    "    part_number: Optional[str] = Field(None, description=\"Part number of the plan\")\n",
    "    url: Optional[str] = Field(None, description=\"URL to the plan details\")\n",
    "    best_value: Optional[bool] = Field(None, description=\"Indicates if the plan is marked as best value\")\n",
    "    current_plan: Optional[bool] = Field(None, description=\"Indicates if this is the current plan\")\n",
    "    features: Optional[List[Feature]] = Field(None, description=\"List of features included in the plan\")\n",
    "    promotions: Optional[List[Promotion]] = Field(None, description=\"List of promotions applicable to the plan\")\n",
    "    bundle_benefits: Optional[List[BundleBenefit]] = Field(None, description=\"List of bundle benefits\")\n",
    "    savings_offers: Optional[List[SavingsOffer]] = Field(None, description=\"List of savings offers\")\n",
    "    plan_details: Optional[PlanDetails] = Field(None, description=\"Detailed information about the plan\")"
   ]
  },
  {
   "cell_type": "code",
   "execution_count": 76,
   "id": "dd14ba70-6678-4dee-b43e-b6165da48441",
   "metadata": {},
   "outputs": [],
   "source": [
    "no_schema_system_message = f\"\"\"\n",
    "Extract the following structured data from the HTML:\"\"\""
   ]
  },
  {
   "cell_type": "code",
   "execution_count": 99,
   "id": "8de1028f-2fa8-43ee-82ff-e6be767f0785",
   "metadata": {},
   "outputs": [],
   "source": [
    "file = open(\"plan_example_html_content.txt\", \"r\")\n",
    "plan_example_html_content = file.read()"
   ]
  },
  {
   "cell_type": "code",
   "execution_count": 101,
   "id": "5cdc408e-9ca8-421b-85a6-54d761114e88",
   "metadata": {},
   "outputs": [],
   "source": [
    "response = chat(\n",
    "    messages=[\n",
    "        {\"role\": \"system\", \"content\": no_schema_system_message},\n",
    "        {\"role\": \"user\", \"content\": plan_example_html_content},\n",
    "    ],\n",
    "    model=\"llama3.2:3b\",\n",
    "    format=StraightTalkPlan.model_json_schema(), temperature=0.01\n",
    ")"
   ]
  },
  {
   "cell_type": "code",
   "execution_count": 102,
   "id": "4ad639de-1a6d-402d-8cc1-f7a2d1040a57",
   "metadata": {},
   "outputs": [
    {
     "name": "stdout",
     "output_type": "stream",
     "text": [
      "{\"name\": \"Platinum Unlimited\", \"price\": 65, \"promotions\": [], \"plan_details\": {\"device_protection\": true, \"international_calling\": \"unlimited\", \"service_days\": 30} }\n"
     ]
    }
   ],
   "source": [
    "print(response.message.content)"
   ]
  },
  {
   "cell_type": "markdown",
   "id": "5227e06e-9954-4942-9519-b07198224519",
   "metadata": {},
   "source": [
    "## Improvement on the above using formats and terms from BroadBand Facts"
   ]
  },
  {
   "cell_type": "code",
   "execution_count": 10,
   "id": "56cc69a6-f8b0-4cc7-a0b2-59fddcd5c560",
   "metadata": {},
   "outputs": [],
   "source": [
    "from pydantic import BaseModel, HttpUrl\n",
    "from typing import Optional, List\n",
    "\n",
    "class Fee(BaseModel):\n",
    "    name: str\n",
    "    amount: str \n",
    "\n",
    "class SpeedInfo(BaseModel):\n",
    "    network_type: str \n",
    "    typical_download_speed: str\n",
    "    typical_upload_speed: str\n",
    "    typical_latency: str\n",
    "\n",
    "class NetworkPolicy(BaseModel):\n",
    "    title: str \n",
    "    policy_link: HttpUrl\n",
    "\n",
    "class CustomerSupport(BaseModel):\n",
    "    website: HttpUrl\n",
    "    phone_number: str\n",
    "\n",
    "class BroadbandFacts(BaseModel):\n",
    "    provider: str\n",
    "    plan_name: str\n",
    "    disclosure_title: str\n",
    "    monthly_price: str\n",
    "    monthly_price_notes: List[str]\n",
    "    additional_fees: List[Fee]\n",
    "    one_time_fees: List[Fee]\n",
    "    discounts_and_bundles_link: Optional[HttpUrl]\n",
    "    speeds: List[SpeedInfo]\n",
    "    data_included: str\n",
    "    additional_data_charges: str\n",
    "    network_policies: List[NetworkPolicy]\n",
    "    customer_support: CustomerSupport\n",
    "    fcc_consumer_info_link: HttpUrl\n",
    "    reference_code: Optional[str]"
   ]
  },
  {
   "cell_type": "code",
   "execution_count": 12,
   "id": "b099d10e-1b0e-48a2-8847-9861f4540de4",
   "metadata": {},
   "outputs": [],
   "source": [
    "impoved_system_message = f\"\"\"\n",
    "Extract the following structured data from the provided HTML. The extracted information should match the following fields exactly:\n",
    "\n",
    "provider (string): Name of the broadband provider.\n",
    "\n",
    "plan_name (string): Name of the plan.\n",
    "\n",
    "disclosure_title (string): Title of the disclosure (e.g., \"Mobile Broadband Consumer Disclosure\").\n",
    "\n",
    "monthly_price (string): Monthly cost of the plan (including the dollar sign).\n",
    "\n",
    "monthly_price_notes (list of strings): Any notes about the monthly price (such as if it's not introductory or doesn't require a contract).\n",
    "\n",
    "additional_fees (list of objects): Each object should have:\n",
    "\n",
    "name (string): Name of the recurring fee (e.g., \"Activation Fee\").\n",
    "\n",
    "amount (string): Fee amount (including the dollar sign).\n",
    "\n",
    "one_time_fees (list of objects): Each object should have:\n",
    "\n",
    "name (string): Name of the one-time fee (e.g., \"Federal Universal Service Fund\").\n",
    "\n",
    "amount (string): Fee amount (including the dollar sign or \"Varies by location\").\n",
    "\n",
    "discounts_and_bundles_link (URL): URL link for discounts and bundles information (if available).\n",
    "\n",
    "speeds (list of objects): Each object should represent a network type (5G Ultra Wideband, 5G, 4G LTE) with:\n",
    "\n",
    "network_type (string): Name of the network type.\n",
    "\n",
    "typical_download_speed (string): Typical download speed range (e.g., \"195-634 Mbps\").\n",
    "\n",
    "typical_upload_speed (string): Typical upload speed range (e.g., \"10-53 Mbps\").\n",
    "\n",
    "typical_latency (string): Typical latency range (e.g., \"37-57 ms\").\n",
    "\n",
    "data_included (string): Data included with the plan (e.g., \"Unlimited\").\n",
    "\n",
    "additional_data_charges (string): Cost for additional data usage (including the dollar sign).\n",
    "\n",
    "network_policies (list of objects): Each object should have:\n",
    "\n",
    "title (string): Policy title (e.g., \"Network Management\", \"Privacy\").\n",
    "\n",
    "policy_link (URL): URL link to the policy.\n",
    "\n",
    "customer_support (object):\n",
    "\n",
    "website (URL): URL to the customer support page.\n",
    "\n",
    "phone_number (string): Customer support phone number.\n",
    "\n",
    "fcc_consumer_info_link (URL): Link to the FCC consumer information page.\n",
    "\n",
    "reference_code (string): Reference code shown at the end of the facts (if available).\n",
    "\n",
    "Important Notes:\n",
    "\n",
    "Clean up extra whitespace and line breaks from extracted text.\n",
    "\n",
    "Preserve formatting like dollar signs (\"$\") where present.\n",
    "\n",
    "All URLs should be extracted completely and valid.\n",
    "\n",
    "If a field is not present, leave it as null (or empty for optional fields).\"\"\""
   ]
  },
  {
   "cell_type": "code",
   "execution_count": 2,
   "id": "95eda0a0-bc29-437b-bda2-d8816f3423de",
   "metadata": {},
   "outputs": [],
   "source": [
    "file = open(\"plan_example_html_content.txt\", \"r\")\n",
    "plan_example_html_content = file.read()"
   ]
  },
  {
   "cell_type": "code",
   "execution_count": 4,
   "id": "3ed59091-5022-4678-90ef-e9e3af450d29",
   "metadata": {},
   "outputs": [],
   "source": [
    "# file.close()"
   ]
  },
  {
   "cell_type": "code",
   "execution_count": 16,
   "id": "21ba0523-9c06-4e42-bb27-f5fc158d3478",
   "metadata": {},
   "outputs": [],
   "source": [
    "response = chat(\n",
    "    messages=[\n",
    "        {\"role\": \"system\", \"content\": impoved_system_message},\n",
    "        {\"role\": \"user\", \"content\": plan_example_html_content},\n",
    "    ],\n",
    "    model=\"llama3.2:3b\",\n",
    "    format=BroadbandFacts.model_json_schema(), options={\"temperature\": 0.1}\n",
    ")"
   ]
  },
  {
   "cell_type": "code",
   "execution_count": 17,
   "id": "1ff81bac-b848-46ae-9976-9d1439822c43",
   "metadata": {},
   "outputs": [
    {
     "name": "stdout",
     "output_type": "stream",
     "text": [
      "{\"provider\": \"Verizon\", \"plan_name\": \"Platinum Unlimited\", \"disclosure_title\": \"Facts About Your Plan\", \"monthly_price\": \"$70.00\", \"monthly_price_notes\": [\"$0.00 for additional data usage\"], \"additional_fees\": [], \"one_time_fees\": [], \"discounts_and_bundles_link\": \"<a href=\\\"https://www.verizon.com/support/tracfone-open-internet-legal/\\\">Data Included</a>\", \"speeds\": [{\"network_type\": \"4G LTE\", \"typical_download_speed\": \"> 20 Mbps\", \"typical_upload_speed\": \"> 5 Mbps\", \"typical_latency\": \"< 50 ms\"}, {\"network_type\": \"5G\", \"typical_download_speed\": \"> 100 Mbps\", \"typical_upload_speed\": \"> 10 Mbps\", \"typical_latency\": \"< 30 ms\"}], \"data_included\": \"Unlimited\", \"additional_data_charges\": \"$0.00\", \"network_policies\": [{\"title\": \"Network Management\", \"policy_link\": \"https://www.verizon.com/about/our-company/network-management\"}, {\"title\": \"Privacy\", \"policy_link\": \"https://www.tracfonewirelessinc.com/en/Privacy%2BPolicy/\"}, {\"title\": \"Customer Support\", \"policy_link\": \"https://www.straighttalk.com/support/contact\"}], \"customer_support\": {\"website\": \"https://www.straighttalk.com/support/contact\", \"phone_number\": \"1-877-430-2355\"}, \"fcc_consumer_info_link\": \"https://www.fcc.gov/consumer\", \"reference_code\": \"M0006855639ST0000957009143\"}\n"
     ]
    }
   ],
   "source": [
    "print(response.message.content)"
   ]
  },
  {
   "cell_type": "code",
   "execution_count": null,
   "id": "55c15972-5425-4be9-a868-f3dcf787aff4",
   "metadata": {},
   "outputs": [],
   "source": [
    "'''\n",
    "Next activity \n",
    "1. Modify speed info formats.\n",
    "2. Try other models for better numeric values accuracy.\n",
    "3. Experiment with a better system prompt as well.\n",
    "Experiment with temperature.\n",
    "'''"
   ]
  },
  {
   "cell_type": "code",
   "execution_count": null,
   "id": "00a360de-d622-4bce-8fbb-83fd13b38e7f",
   "metadata": {},
   "outputs": [],
   "source": []
  }
 ],
 "metadata": {
  "kernelspec": {
   "display_name": "Python [conda env:base] *",
   "language": "python",
   "name": "conda-base-py"
  },
  "language_info": {
   "codemirror_mode": {
    "name": "ipython",
    "version": 3
   },
   "file_extension": ".py",
   "mimetype": "text/x-python",
   "name": "python",
   "nbconvert_exporter": "python",
   "pygments_lexer": "ipython3",
   "version": "3.12.7"
  }
 },
 "nbformat": 4,
 "nbformat_minor": 5
}
