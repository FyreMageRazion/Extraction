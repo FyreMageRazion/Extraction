{
 "cells": [
  {
   "cell_type": "code",
   "execution_count": 7,
   "id": "db060a9d-13af-486d-8bc1-d35e7c9fdafe",
   "metadata": {},
   "outputs": [],
   "source": [
    "# Install dependencies\n",
    "# !pip install PyPDF2 google-generativeai\n",
    "\n",
    "import PyPDF2\n",
    "import google.generativeai as genai"
   ]
  },
  {
   "cell_type": "code",
   "execution_count": 9,
   "id": "276e8d5e-63f8-47cf-8c1f-8b042c2b2920",
   "metadata": {},
   "outputs": [
    {
     "name": "stdout",
     "output_type": "stream",
     "text": [
      "Extracted 4907 characters from the PDF.\n"
     ]
    }
   ],
   "source": [
    "\n",
    "def extract_text_from_pdf(pdf_path):\n",
    "    text = \"\"\n",
    "    try:\n",
    "        with open(pdf_path, 'rb') as file:\n",
    "            reader = PyPDF2.PdfReader(file)\n",
    "            for page in reader.pages:\n",
    "                text += page.extract_text() + \"\\n\"\n",
    "        return text\n",
    "    except Exception as e:\n",
    "        print(f\"Error extracting text from PDF: {e}\")\n",
    "        return None\n",
    "\n",
    "pdf_path = \"company_annual_report.pdf\"\n",
    "document_text = extract_text_from_pdf(pdf_path)\n",
    "print(f\"Extracted {len(document_text)} characters from the PDF.\")"
   ]
  },
  {
   "cell_type": "code",
   "execution_count": 15,
   "id": "b6e52b56-04e6-44d6-99a8-6005be96cab3",
   "metadata": {},
   "outputs": [],
   "source": [
    "\n",
    "genai.configure(api_key=\"<API_KEY>\")\n",
    "\n",
    "model = genai.GenerativeModel(\"gemini-2.5-flash\")\n",
    "\n",
    "def ask_question(document, question):\n",
    "    prompt = f\"\"\"\n",
    "You are a Question-Answering assistant. \n",
    "Answer questions ONLY based on the provided document below.\n",
    "If the answer is not in the document, reply with \"The document does not contain this information.\"\n",
    "\n",
    "--- Document Start ---\n",
    "{document}\n",
    "--- Document End ---\n",
    "\n",
    "Question: {question}\n",
    "Answer:\n",
    "\"\"\"\n",
    "    response = model.generate_content(prompt)\n",
    "    return response.text\n"
   ]
  },
  {
   "cell_type": "code",
   "execution_count": 17,
   "id": "af824d56-7e77-4736-b9dd-c3b3eedaddd1",
   "metadata": {},
   "outputs": [
    {
     "name": "stdout",
     "output_type": "stream",
     "text": [
      "Q: What were the company’s total revenues in 2024?\n",
      "A: The company’s total revenues in 2024 were $16.3 Billion.\n",
      "--------------------------------------------------\n",
      "Q: What are the key strategic initiatives mentioned in the report?\n",
      "A: The key strategic initiatives mentioned in the report are:\n",
      "1. Expansion into AI-driven services and automation.\n",
      "2. Strengthening research and development investments.\n",
      "3. Sustainable business practices to reduce carbon footprint.\n",
      "4. Enhancing customer engagement through digital transformation.\n",
      "5. Global partnerships to expand market reach.\n",
      "--------------------------------------------------\n",
      "Q: Who is the CEO of the company?\n",
      "A: John Doe is the CEO of XYZ Corporation.\n",
      "--------------------------------------------------\n",
      "Q: What are the company’s plans for sustainability?\n",
      "A: XYZ Corporation plans to reduce its carbon footprint by 30% through the adoption of renewable energy sources and green data centers. The company has also launched community engagement programs focused on digital education and technological empowerment for underprivileged communities. Sustainable business practices to reduce the carbon footprint are also a key strategic initiative, and investments in sustainability will continue to be a pillar of their strategy.\n",
      "--------------------------------------------------\n",
      "Q: How did the company perform in terms of research and development investment?\n",
      "A: The company's R&D investment was $2.0 Billion.\n",
      "--------------------------------------------------\n"
     ]
    }
   ],
   "source": [
    "questions = [\n",
    "    \"What were the company’s total revenues in 2024?\",\n",
    "    \"What are the key strategic initiatives mentioned in the report?\",\n",
    "    \"Who is the CEO of the company?\",\n",
    "    \"What are the company’s plans for sustainability?\",\n",
    "    \"How did the company perform in terms of research and development investment?\"\n",
    "]\n",
    "\n",
    "for q in questions:\n",
    "    print(f\"Q: {q}\")\n",
    "    print(\"A:\", ask_question(document_text, q))\n",
    "    print(\"-\" * 50)"
   ]
  },
  {
   "cell_type": "code",
   "execution_count": null,
   "id": "28d96c7e-180d-410e-9290-d18e88c0eeeb",
   "metadata": {},
   "outputs": [],
   "source": []
  }
 ],
 "metadata": {
  "kernelspec": {
   "display_name": "Python [conda env:base] *",
   "language": "python",
   "name": "conda-base-py"
  },
  "language_info": {
   "codemirror_mode": {
    "name": "ipython",
    "version": 3
   },
   "file_extension": ".py",
   "mimetype": "text/x-python",
   "name": "python",
   "nbconvert_exporter": "python",
   "pygments_lexer": "ipython3",
   "version": "3.12.7"
  }
 },
 "nbformat": 4,
 "nbformat_minor": 5
}
